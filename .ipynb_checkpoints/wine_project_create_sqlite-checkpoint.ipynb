{
 "cells": [
  {
   "cell_type": "code",
<<<<<<< HEAD
   "execution_count": 2,
=======
   "execution_count": 1,
>>>>>>> e5a320a99c3e8b363c4e501281dd82b348e640be
   "metadata": {},
   "outputs": [],
   "source": [
    "# dependencies\n",
    "\n",
    "import pandas as pd\n",
    "import sqlite3\n",
    "from sqlalchemy import create_engine\n",
    "from sqlalchemy import Column, Date, Integer, String\n",
    "from sqlalchemy.ext.declarative import declarative_base\n",
    "from sqlalchemy.orm import Session\n"
   ]
  },
  {
   "cell_type": "code",
<<<<<<< HEAD
   "execution_count": 3,
=======
   "execution_count": 2,
>>>>>>> e5a320a99c3e8b363c4e501281dd82b348e640be
   "metadata": {},
   "outputs": [
    {
     "data": {
      "text/html": [
       "<div>\n",
       "<style scoped>\n",
       "    .dataframe tbody tr th:only-of-type {\n",
       "        vertical-align: middle;\n",
       "    }\n",
       "\n",
       "    .dataframe tbody tr th {\n",
       "        vertical-align: top;\n",
       "    }\n",
       "\n",
       "    .dataframe thead th {\n",
       "        text-align: right;\n",
       "    }\n",
       "</style>\n",
       "<table border=\"1\" class=\"dataframe\">\n",
       "  <thead>\n",
       "    <tr style=\"text-align: right;\">\n",
       "      <th></th>\n",
<<<<<<< HEAD
       "      <th>id</th>\n",
=======
>>>>>>> e5a320a99c3e8b363c4e501281dd82b348e640be
       "      <th>title</th>\n",
       "      <th>country</th>\n",
       "      <th>points</th>\n",
       "      <th>price</th>\n",
       "      <th>province</th>\n",
       "      <th>variety</th>\n",
       "      <th>winery</th>\n",
       "    </tr>\n",
       "  </thead>\n",
       "  <tbody>\n",
       "    <tr>\n",
       "      <th>0</th>\n",
<<<<<<< HEAD
       "      <td>0</td>\n",
=======
>>>>>>> e5a320a99c3e8b363c4e501281dd82b348e640be
       "      <td>L'Arboc NV 1919 Brut SelecciÃƒÂ³ Sparkling (Cava)</td>\n",
       "      <td>Spain</td>\n",
       "      <td>88</td>\n",
       "      <td>$13.00</td>\n",
       "      <td>Catalonia</td>\n",
       "      <td>Sparkling Blend</td>\n",
       "      <td>L'Arboc</td>\n",
       "    </tr>\n",
       "    <tr>\n",
       "      <th>1</th>\n",
<<<<<<< HEAD
       "      <td>1</td>\n",
=======
>>>>>>> e5a320a99c3e8b363c4e501281dd82b348e640be
       "      <td>Guidi 1929 2015 Vernaccia di San Gimignano</td>\n",
       "      <td>Italy</td>\n",
       "      <td>87</td>\n",
       "      <td>$14.00</td>\n",
       "      <td>Tuscany</td>\n",
       "      <td>Vernaccia</td>\n",
       "      <td>Guidi 1929</td>\n",
       "    </tr>\n",
       "    <tr>\n",
       "      <th>2</th>\n",
<<<<<<< HEAD
       "      <td>2</td>\n",
=======
>>>>>>> e5a320a99c3e8b363c4e501281dd82b348e640be
       "      <td>Poderi dal Nespoli 1929 2011 Prugneto (Sangiov...</td>\n",
       "      <td>Italy</td>\n",
       "      <td>84</td>\n",
       "      <td>$15.00</td>\n",
       "      <td>Central Italy</td>\n",
       "      <td>Sangiovese</td>\n",
       "      <td>Poderi dal Nespoli 1929</td>\n",
       "    </tr>\n",
       "    <tr>\n",
       "      <th>3</th>\n",
<<<<<<< HEAD
       "      <td>3</td>\n",
=======
>>>>>>> e5a320a99c3e8b363c4e501281dd82b348e640be
       "      <td>Adega Viuva Gomes 1934 Reserva Velho Red (Cola...</td>\n",
       "      <td>Portugal</td>\n",
       "      <td>93</td>\n",
       "      <td>$495.00</td>\n",
       "      <td>Colares</td>\n",
       "      <td>Ramisco</td>\n",
       "      <td>Adega Viuva Gomes</td>\n",
       "    </tr>\n",
       "    <tr>\n",
       "      <th>4</th>\n",
<<<<<<< HEAD
       "      <td>4</td>\n",
=======
>>>>>>> e5a320a99c3e8b363c4e501281dd82b348e640be
       "      <td>GÃƒÂ©rard Bertrand 1945 Legend Vintage Red (Ri...</td>\n",
       "      <td>France</td>\n",
       "      <td>95</td>\n",
       "      <td>$350.00</td>\n",
       "      <td>Languedoc-Roussillon</td>\n",
       "      <td>Red Blend</td>\n",
       "      <td>GÃƒÂ©rard Bertrand</td>\n",
       "    </tr>\n",
       "  </tbody>\n",
       "</table>\n",
       "</div>"
      ],
      "text/plain": [
<<<<<<< HEAD
       "   id                                              title   country  points  \\\n",
       "0   0  L'Arboc NV 1919 Brut SelecciÃƒÂ³ Sparkling (Cava)     Spain      88   \n",
       "1   1         Guidi 1929 2015 Vernaccia di San Gimignano     Italy      87   \n",
       "2   2  Poderi dal Nespoli 1929 2011 Prugneto (Sangiov...     Italy      84   \n",
       "3   3  Adega Viuva Gomes 1934 Reserva Velho Red (Cola...  Portugal      93   \n",
       "4   4  GÃƒÂ©rard Bertrand 1945 Legend Vintage Red (Ri...    France      95   \n",
=======
       "                                               title   country  points  \\\n",
       "0  L'Arboc NV 1919 Brut SelecciÃƒÂ³ Sparkling (Cava)     Spain      88   \n",
       "1         Guidi 1929 2015 Vernaccia di San Gimignano     Italy      87   \n",
       "2  Poderi dal Nespoli 1929 2011 Prugneto (Sangiov...     Italy      84   \n",
       "3  Adega Viuva Gomes 1934 Reserva Velho Red (Cola...  Portugal      93   \n",
       "4  GÃƒÂ©rard Bertrand 1945 Legend Vintage Red (Ri...    France      95   \n",
>>>>>>> e5a320a99c3e8b363c4e501281dd82b348e640be
       "\n",
       "      price              province          variety                   winery  \n",
       "0   $13.00              Catalonia  Sparkling Blend                  L'Arboc  \n",
       "1   $14.00                Tuscany        Vernaccia               Guidi 1929  \n",
       "2   $15.00          Central Italy       Sangiovese  Poderi dal Nespoli 1929  \n",
       "3  $495.00                Colares          Ramisco        Adega Viuva Gomes  \n",
       "4  $350.00   Languedoc-Roussillon        Red Blend       GÃƒÂ©rard Bertrand  "
      ]
     },
<<<<<<< HEAD
     "execution_count": 3,
=======
     "execution_count": 2,
>>>>>>> e5a320a99c3e8b363c4e501281dd82b348e640be
     "metadata": {},
     "output_type": "execute_result"
    }
   ],
   "source": [
    "# upload csvs\n",
    "wine_file = \"wine_data_updated.csv\"\n",
    "# wine_i = \"Wine_imports.csv\"\n",
    "\n",
    "wine_df = pd.read_csv(wine_file)\n",
    "# wine_import = pd.read_csv(wine_i)\n",
    "\n",
    "wine_df.head(5)\n"
   ]
  },
  {
   "cell_type": "code",
<<<<<<< HEAD
   "execution_count": 4,
=======
   "execution_count": 3,
>>>>>>> e5a320a99c3e8b363c4e501281dd82b348e640be
   "metadata": {},
   "outputs": [
    {
     "data": {
      "text/plain": [
<<<<<<< HEAD
       "Index(['id', 'title', 'country', 'points', 'price', 'province', 'variety',\n",
       "       'winery'],\n",
       "      dtype='object')"
      ]
     },
     "execution_count": 4,
=======
       "Index(['title', 'country', 'points', 'price', 'province', 'variety', 'winery'], dtype='object')"
      ]
     },
     "execution_count": 3,
>>>>>>> e5a320a99c3e8b363c4e501281dd82b348e640be
     "metadata": {},
     "output_type": "execute_result"
    }
   ],
   "source": [
    "# print column names for wine\n",
    "wine_df.columns"
   ]
  },
  {
   "cell_type": "code",
<<<<<<< HEAD
   "execution_count": 5,
=======
   "execution_count": 4,
>>>>>>> e5a320a99c3e8b363c4e501281dd82b348e640be
   "metadata": {},
   "outputs": [],
   "source": [
    "# sqlite create engine\n",
    "\n",
    "engine = create_engine('sqlite:///wine_db.sqlite', echo=False)"
   ]
  },
  {
   "cell_type": "code",
<<<<<<< HEAD
   "execution_count": 6,
=======
   "execution_count": 5,
>>>>>>> e5a320a99c3e8b363c4e501281dd82b348e640be
   "metadata": {},
   "outputs": [],
   "source": [
    "# create base\n",
    "Base = declarative_base()"
   ]
  },
  {
   "cell_type": "code",
<<<<<<< HEAD
   "execution_count": 7,
=======
   "execution_count": 6,
>>>>>>> e5a320a99c3e8b363c4e501281dd82b348e640be
   "metadata": {},
   "outputs": [],
   "source": [
    "# create table for wine\n",
    "class Wine(Base):\n",
    "    __tablename__ = 'wine'\n",
    "    id = Column(Integer, primary_key=True)\n",
    "    title = Column(String)\n",
    "    country = Column(String)\n",
    "    points = Column(Integer)\n",
    "    price = Column(Integer)\n",
    "    province = Column(String)\n",
    "    variety = Column(String)\n",
    "    winery = Column(String)\n",
    "    \n",
    "    def __init__(self, title, country, points, price, province, variety, winery):\n",
    "        self.title = title\n",
    "        self.country = country\n",
    "        self.points = points\n",
    "        self.price = price\n",
    "        self.province = province\n",
    "        self.variety = variety\n",
    "        self.winery = winery\n",
    "        \n",
    "    "
   ]
  },
  {
   "cell_type": "code",
<<<<<<< HEAD
   "execution_count": 8,
=======
   "execution_count": 7,
>>>>>>> e5a320a99c3e8b363c4e501281dd82b348e640be
   "metadata": {},
   "outputs": [],
   "source": [
    "# set up session\n",
    "session = Session (bind=engine)\n"
   ]
  },
  {
   "cell_type": "code",
<<<<<<< HEAD
   "execution_count": 9,
=======
   "execution_count": 8,
>>>>>>> e5a320a99c3e8b363c4e501281dd82b348e640be
   "metadata": {},
   "outputs": [],
   "source": [
    "# create all metadata base engine\n",
    "Base.metadata.create_all(engine)"
   ]
  },
  {
   "cell_type": "code",
<<<<<<< HEAD
   "execution_count": 10,
=======
   "execution_count": 9,
>>>>>>> e5a320a99c3e8b363c4e501281dd82b348e640be
   "metadata": {},
   "outputs": [],
   "source": [
    "# create sqlite filepath wine_all\n",
    "sqlite_path = \"wine_db.sqlite\"\n",
    "\n",
    "engine = create_engine(f'sqlite:///{sqlite_path}')"
   ]
  },
  {
   "cell_type": "code",
<<<<<<< HEAD
   "execution_count": 11,
=======
   "execution_count": 10,
>>>>>>> e5a320a99c3e8b363c4e501281dd82b348e640be
   "metadata": {},
   "outputs": [
    {
     "name": "stdout",
     "output_type": "stream",
     "text": [
<<<<<<< HEAD
      "<sqlalchemy.engine.result.ResultProxy object at 0x000001B09E3AE908>\n"
=======
      "<sqlalchemy.engine.result.ResultProxy object at 0x1239f4520>\n"
>>>>>>> e5a320a99c3e8b363c4e501281dd82b348e640be
     ]
    }
   ],
   "source": [
    "# engine execute wine_all\n",
    "wine_all_df = engine.execute(\"SELECT * FROM wine\")\n",
    "\n",
    "print(wine_all_df)"
   ]
  },
  {
   "cell_type": "code",
<<<<<<< HEAD
   "execution_count": 3,
   "metadata": {},
   "outputs": [
    {
     "ename": "NameError",
     "evalue": "name 'engine' is not defined",
     "output_type": "error",
     "traceback": [
      "\u001b[1;31m---------------------------------------------------------------------------\u001b[0m",
      "\u001b[1;31mNameError\u001b[0m                                 Traceback (most recent call last)",
      "\u001b[1;32m<ipython-input-3-ee435469a435>\u001b[0m in \u001b[0;36m<module>\u001b[1;34m\u001b[0m\n\u001b[0;32m      1\u001b[0m \u001b[1;31m# check table names\u001b[0m\u001b[1;33m\u001b[0m\u001b[1;33m\u001b[0m\u001b[1;33m\u001b[0m\u001b[0m\n\u001b[1;32m----> 2\u001b[1;33m \u001b[0mengine\u001b[0m\u001b[1;33m.\u001b[0m\u001b[0mtable_names\u001b[0m\u001b[1;33m(\u001b[0m\u001b[1;33m)\u001b[0m\u001b[1;33m\u001b[0m\u001b[1;33m\u001b[0m\u001b[0m\n\u001b[0m",
      "\u001b[1;31mNameError\u001b[0m: name 'engine' is not defined"
     ]
=======
   "execution_count": 11,
   "metadata": {},
   "outputs": [
    {
     "data": {
      "text/plain": [
       "['wine']"
      ]
     },
     "execution_count": 11,
     "metadata": {},
     "output_type": "execute_result"
>>>>>>> e5a320a99c3e8b363c4e501281dd82b348e640be
    }
   ],
   "source": [
    "# check table names\n",
    "engine.table_names()"
   ]
  },
  {
   "cell_type": "code",
<<<<<<< HEAD
   "execution_count": 4,
   "metadata": {},
   "outputs": [
    {
     "ename": "NameError",
     "evalue": "name 'engine' is not defined",
     "output_type": "error",
     "traceback": [
      "\u001b[1;31m---------------------------------------------------------------------------\u001b[0m",
      "\u001b[1;31mNameError\u001b[0m                                 Traceback (most recent call last)",
      "\u001b[1;32m<ipython-input-4-2817fce8a995>\u001b[0m in \u001b[0;36m<module>\u001b[1;34m\u001b[0m\n\u001b[0;32m      1\u001b[0m \u001b[1;31m# create dataframe to pull into sqlite file\u001b[0m\u001b[1;33m\u001b[0m\u001b[1;33m\u001b[0m\u001b[1;33m\u001b[0m\u001b[0m\n\u001b[1;32m----> 2\u001b[1;33m \u001b[0mres\u001b[0m \u001b[1;33m=\u001b[0m \u001b[0mengine\u001b[0m\u001b[1;33m.\u001b[0m\u001b[0mexecute\u001b[0m\u001b[1;33m(\u001b[0m\u001b[1;34m'''Select * from wine;'''\u001b[0m\u001b[1;33m)\u001b[0m\u001b[1;33m\u001b[0m\u001b[1;33m\u001b[0m\u001b[0m\n\u001b[0m\u001b[0;32m      3\u001b[0m \u001b[0mpd\u001b[0m\u001b[1;33m.\u001b[0m\u001b[0mDataFrame\u001b[0m\u001b[1;33m(\u001b[0m\u001b[0mres\u001b[0m\u001b[1;33m)\u001b[0m\u001b[1;33m\u001b[0m\u001b[1;33m\u001b[0m\u001b[0m\n",
      "\u001b[1;31mNameError\u001b[0m: name 'engine' is not defined"
     ]
=======
   "execution_count": 14,
   "metadata": {},
   "outputs": [
    {
     "data": {
      "text/html": [
       "<div>\n",
       "<style scoped>\n",
       "    .dataframe tbody tr th:only-of-type {\n",
       "        vertical-align: middle;\n",
       "    }\n",
       "\n",
       "    .dataframe tbody tr th {\n",
       "        vertical-align: top;\n",
       "    }\n",
       "\n",
       "    .dataframe thead th {\n",
       "        text-align: right;\n",
       "    }\n",
       "</style>\n",
       "<table border=\"1\" class=\"dataframe\">\n",
       "  <thead>\n",
       "    <tr style=\"text-align: right;\">\n",
       "      <th></th>\n",
       "      <th>0</th>\n",
       "      <th>1</th>\n",
       "      <th>2</th>\n",
       "      <th>3</th>\n",
       "      <th>4</th>\n",
       "      <th>5</th>\n",
       "      <th>6</th>\n",
       "      <th>7</th>\n",
       "    </tr>\n",
       "  </thead>\n",
       "  <tbody>\n",
       "    <tr>\n",
       "      <th>0</th>\n",
       "      <td>1</td>\n",
       "      <td>L'Arboc NV 1919 Brut SelecciÃƒÂ³ Sparkling (Cava)</td>\n",
       "      <td>Spain</td>\n",
       "      <td>88</td>\n",
       "      <td>$13.00</td>\n",
       "      <td>Catalonia</td>\n",
       "      <td>Sparkling Blend</td>\n",
       "      <td>L'Arboc</td>\n",
       "    </tr>\n",
       "    <tr>\n",
       "      <th>1</th>\n",
       "      <td>2</td>\n",
       "      <td>Guidi 1929 2015 Vernaccia di San Gimignano</td>\n",
       "      <td>Italy</td>\n",
       "      <td>87</td>\n",
       "      <td>$14.00</td>\n",
       "      <td>Tuscany</td>\n",
       "      <td>Vernaccia</td>\n",
       "      <td>Guidi 1929</td>\n",
       "    </tr>\n",
       "    <tr>\n",
       "      <th>2</th>\n",
       "      <td>3</td>\n",
       "      <td>Poderi dal Nespoli 1929 2011 Prugneto (Sangiov...</td>\n",
       "      <td>Italy</td>\n",
       "      <td>84</td>\n",
       "      <td>$15.00</td>\n",
       "      <td>Central Italy</td>\n",
       "      <td>Sangiovese</td>\n",
       "      <td>Poderi dal Nespoli 1929</td>\n",
       "    </tr>\n",
       "    <tr>\n",
       "      <th>3</th>\n",
       "      <td>4</td>\n",
       "      <td>Adega Viuva Gomes 1934 Reserva Velho Red (Cola...</td>\n",
       "      <td>Portugal</td>\n",
       "      <td>93</td>\n",
       "      <td>$495.00</td>\n",
       "      <td>Colares</td>\n",
       "      <td>Ramisco</td>\n",
       "      <td>Adega Viuva Gomes</td>\n",
       "    </tr>\n",
       "    <tr>\n",
       "      <th>4</th>\n",
       "      <td>5</td>\n",
       "      <td>GÃƒÂ©rard Bertrand 1945 Legend Vintage Red (Ri...</td>\n",
       "      <td>France</td>\n",
       "      <td>95</td>\n",
       "      <td>$350.00</td>\n",
       "      <td>Languedoc-Roussillon</td>\n",
       "      <td>Red Blend</td>\n",
       "      <td>GÃƒÂ©rard Bertrand</td>\n",
       "    </tr>\n",
       "    <tr>\n",
       "      <th>...</th>\n",
       "      <td>...</td>\n",
       "      <td>...</td>\n",
       "      <td>...</td>\n",
       "      <td>...</td>\n",
       "      <td>...</td>\n",
       "      <td>...</td>\n",
       "      <td>...</td>\n",
       "      <td>...</td>\n",
       "    </tr>\n",
       "    <tr>\n",
       "      <th>24992</th>\n",
       "      <td>24993</td>\n",
       "      <td>Familie Zull 2016 Lust &amp; Laune RosÃƒÂ© (Nieder...</td>\n",
       "      <td>Austria</td>\n",
       "      <td>88</td>\n",
       "      <td>$15.00</td>\n",
       "      <td>NiederÃƒÂ¶sterreich</td>\n",
       "      <td>RosÃƒÂ©</td>\n",
       "      <td>Familie Zull</td>\n",
       "    </tr>\n",
       "    <tr>\n",
       "      <th>24993</th>\n",
       "      <td>24994</td>\n",
       "      <td>JÃƒÂ¤ger 2016 Vorder Seiber Federspiel GrÃƒÂ¼n...</td>\n",
       "      <td>Austria</td>\n",
       "      <td>90</td>\n",
       "      <td>$25.00</td>\n",
       "      <td>Wachau</td>\n",
       "      <td>GrÃƒÂ¼ner Veltliner</td>\n",
       "      <td>JÃƒÂ¤ger</td>\n",
       "    </tr>\n",
       "    <tr>\n",
       "      <th>24994</th>\n",
       "      <td>24995</td>\n",
       "      <td>Zonin NV CuvÃƒÂ¨e 1821 Brut (Prosecco)</td>\n",
       "      <td>Italy</td>\n",
       "      <td>86</td>\n",
       "      <td>$15.00</td>\n",
       "      <td>Veneto</td>\n",
       "      <td>Glera</td>\n",
       "      <td>Zonin</td>\n",
       "    </tr>\n",
       "    <tr>\n",
       "      <th>24995</th>\n",
       "      <td>24996</td>\n",
       "      <td>Osborne NV Pedro Ximenez 1827 Sweet Sherry She...</td>\n",
       "      <td>Spain</td>\n",
       "      <td>94</td>\n",
       "      <td>$14.00</td>\n",
       "      <td>Andalucia</td>\n",
       "      <td>Sherry</td>\n",
       "      <td>Osborne</td>\n",
       "    </tr>\n",
       "    <tr>\n",
       "      <th>24996</th>\n",
       "      <td>24997</td>\n",
       "      <td>CodornÃƒÂ­u NV Reserva CuvÃƒÂ©e Barcelona 1872...</td>\n",
       "      <td>Spain</td>\n",
       "      <td>85</td>\n",
       "      <td>None</td>\n",
       "      <td>Catalonia</td>\n",
       "      <td>Sparkling Blend</td>\n",
       "      <td>CodornÃƒÂ­u</td>\n",
       "    </tr>\n",
       "  </tbody>\n",
       "</table>\n",
       "<p>24997 rows × 8 columns</p>\n",
       "</div>"
      ],
      "text/plain": [
       "           0                                                  1         2   3  \\\n",
       "0          1  L'Arboc NV 1919 Brut SelecciÃƒÂ³ Sparkling (Cava)     Spain  88   \n",
       "1          2         Guidi 1929 2015 Vernaccia di San Gimignano     Italy  87   \n",
       "2          3  Poderi dal Nespoli 1929 2011 Prugneto (Sangiov...     Italy  84   \n",
       "3          4  Adega Viuva Gomes 1934 Reserva Velho Red (Cola...  Portugal  93   \n",
       "4          5  GÃƒÂ©rard Bertrand 1945 Legend Vintage Red (Ri...    France  95   \n",
       "...      ...                                                ...       ...  ..   \n",
       "24992  24993  Familie Zull 2016 Lust & Laune RosÃƒÂ© (Nieder...   Austria  88   \n",
       "24993  24994  JÃƒÂ¤ger 2016 Vorder Seiber Federspiel GrÃƒÂ¼n...   Austria  90   \n",
       "24994  24995             Zonin NV CuvÃƒÂ¨e 1821 Brut (Prosecco)     Italy  86   \n",
       "24995  24996  Osborne NV Pedro Ximenez 1827 Sweet Sherry She...     Spain  94   \n",
       "24996  24997  CodornÃƒÂ­u NV Reserva CuvÃƒÂ©e Barcelona 1872...     Spain  85   \n",
       "\n",
       "              4                     5                    6  \\\n",
       "0       $13.00              Catalonia      Sparkling Blend   \n",
       "1       $14.00                Tuscany            Vernaccia   \n",
       "2       $15.00          Central Italy           Sangiovese   \n",
       "3      $495.00                Colares              Ramisco   \n",
       "4      $350.00   Languedoc-Roussillon            Red Blend   \n",
       "...         ...                   ...                  ...   \n",
       "24992   $15.00    NiederÃƒÂ¶sterreich              RosÃƒÂ©   \n",
       "24993   $25.00                 Wachau  GrÃƒÂ¼ner Veltliner   \n",
       "24994   $15.00                 Veneto                Glera   \n",
       "24995   $14.00              Andalucia               Sherry   \n",
       "24996      None             Catalonia      Sparkling Blend   \n",
       "\n",
       "                             7  \n",
       "0                      L'Arboc  \n",
       "1                   Guidi 1929  \n",
       "2      Poderi dal Nespoli 1929  \n",
       "3            Adega Viuva Gomes  \n",
       "4           GÃƒÂ©rard Bertrand  \n",
       "...                        ...  \n",
       "24992             Familie Zull  \n",
       "24993                 JÃƒÂ¤ger  \n",
       "24994                    Zonin  \n",
       "24995                  Osborne  \n",
       "24996              CodornÃƒÂ­u  \n",
       "\n",
       "[24997 rows x 8 columns]"
      ]
     },
     "execution_count": 14,
     "metadata": {},
     "output_type": "execute_result"
>>>>>>> e5a320a99c3e8b363c4e501281dd82b348e640be
    }
   ],
   "source": [
    "# create dataframe to pull into sqlite file\n",
    "res = engine.execute('''Select * from wine;''')\n",
    "pd.DataFrame(res)"
   ]
  },
  {
   "cell_type": "code",
<<<<<<< HEAD
   "execution_count": 14,
   "metadata": {},
   "outputs": [
    {
     "ename": "IntegrityError",
     "evalue": "(sqlite3.IntegrityError) UNIQUE constraint failed: wine.id\n[SQL: INSERT INTO wine (id, title, country, points, price, province, variety, winery) VALUES (?, ?, ?, ?, ?, ?, ?, ?)]\n[parameters: ((0, \"L'Arboc NV 1919 Brut SelecciÃƒÂ³ Sparkling (Cava)\", 'Spain', 88, '$13.00 ', 'Catalonia', 'Sparkling Blend', \"L'Arboc\"), (1, 'Guidi 1929 2015 Vernaccia di San Gimignano', 'Italy', 87, '$14.00 ', 'Tuscany', 'Vernaccia', 'Guidi 1929'), (2, 'Poderi dal Nespoli 1929 2011 Prugneto (Sangiovese di Romagna Superiore)', 'Italy', 84, '$15.00 ', 'Central Italy', 'Sangiovese', 'Poderi dal Nespoli 1929'), (3, 'Adega Viuva Gomes 1934 Reserva Velho Red (Colares)', 'Portugal', 93, '$495.00 ', 'Colares', 'Ramisco', 'Adega Viuva Gomes'), (4, 'GÃƒÂ©rard Bertrand 1945 Legend Vintage Red (Rivesaltes)', 'France', 95, '$350.00 ', 'Languedoc-Roussillon', 'Red Blend', 'GÃƒÂ©rard Bertrand'), (5, 'Burmester 1952 Colheita Tawny (Port)', 'Portugal', 96, '$415.00 ', 'Port', 'Port', 'Burmester'), (6, 'Messias 1963 Colheita Tawny (Port)', 'Portugal', 96, '$400.00 ', 'Port', 'Port', 'Messias'), (7, 'Barros 1974 Colheita Tawny (Port)', 'Portugal', 93, '$175.00 ', 'Port', 'Port', 'Barros')  ... displaying 10 of 24997 total bound parameter sets ...  (24995, 'Osborne NV Pedro Ximenez 1827 Sweet Sherry Sherry (Jerez)', 'Spain', 94, '$14.00 ', 'Andalucia', 'Sherry', 'Osborne'), (24996, 'CodornÃƒÂ\\xadu NV Reserva CuvÃƒÂ©e Barcelona 1872 Sparkling (Cava)', 'Spain', 85, None, 'Catalonia', 'Sparkling Blend', 'CodornÃƒÂ\\xadu'))]\n(Background on this error at: http://sqlalche.me/e/gkpj)",
     "output_type": "error",
     "traceback": [
      "\u001b[1;31m---------------------------------------------------------------------------\u001b[0m",
      "\u001b[1;31mIntegrityError\u001b[0m                            Traceback (most recent call last)",
      "\u001b[1;32m~\\anaconda3\\envs\\PythonData\\lib\\site-packages\\sqlalchemy\\engine\\base.py\u001b[0m in \u001b[0;36m_execute_context\u001b[1;34m(self, dialect, constructor, statement, parameters, *args)\u001b[0m\n\u001b[0;32m   1263\u001b[0m                     self.dialect.do_executemany(\n\u001b[1;32m-> 1264\u001b[1;33m                         \u001b[0mcursor\u001b[0m\u001b[1;33m,\u001b[0m \u001b[0mstatement\u001b[0m\u001b[1;33m,\u001b[0m \u001b[0mparameters\u001b[0m\u001b[1;33m,\u001b[0m \u001b[0mcontext\u001b[0m\u001b[1;33m\u001b[0m\u001b[1;33m\u001b[0m\u001b[0m\n\u001b[0m\u001b[0;32m   1265\u001b[0m                     )\n",
      "\u001b[1;32m~\\anaconda3\\envs\\PythonData\\lib\\site-packages\\sqlalchemy\\engine\\default.py\u001b[0m in \u001b[0;36mdo_executemany\u001b[1;34m(self, cursor, statement, parameters, context)\u001b[0m\n\u001b[0;32m    586\u001b[0m     \u001b[1;32mdef\u001b[0m \u001b[0mdo_executemany\u001b[0m\u001b[1;33m(\u001b[0m\u001b[0mself\u001b[0m\u001b[1;33m,\u001b[0m \u001b[0mcursor\u001b[0m\u001b[1;33m,\u001b[0m \u001b[0mstatement\u001b[0m\u001b[1;33m,\u001b[0m \u001b[0mparameters\u001b[0m\u001b[1;33m,\u001b[0m \u001b[0mcontext\u001b[0m\u001b[1;33m=\u001b[0m\u001b[1;32mNone\u001b[0m\u001b[1;33m)\u001b[0m\u001b[1;33m:\u001b[0m\u001b[1;33m\u001b[0m\u001b[1;33m\u001b[0m\u001b[0m\n\u001b[1;32m--> 587\u001b[1;33m         \u001b[0mcursor\u001b[0m\u001b[1;33m.\u001b[0m\u001b[0mexecutemany\u001b[0m\u001b[1;33m(\u001b[0m\u001b[0mstatement\u001b[0m\u001b[1;33m,\u001b[0m \u001b[0mparameters\u001b[0m\u001b[1;33m)\u001b[0m\u001b[1;33m\u001b[0m\u001b[1;33m\u001b[0m\u001b[0m\n\u001b[0m\u001b[0;32m    588\u001b[0m \u001b[1;33m\u001b[0m\u001b[0m\n",
      "\u001b[1;31mIntegrityError\u001b[0m: UNIQUE constraint failed: wine.id",
      "\nThe above exception was the direct cause of the following exception:\n",
      "\u001b[1;31mIntegrityError\u001b[0m                            Traceback (most recent call last)",
      "\u001b[1;32m<ipython-input-14-02dc85aea327>\u001b[0m in \u001b[0;36m<module>\u001b[1;34m\u001b[0m\n\u001b[0;32m      1\u001b[0m \u001b[1;31m# WINE turn pandas csv dataframe into sqlite database\u001b[0m\u001b[1;33m\u001b[0m\u001b[1;33m\u001b[0m\u001b[1;33m\u001b[0m\u001b[0m\n\u001b[0;32m      2\u001b[0m \u001b[1;33m\u001b[0m\u001b[0m\n\u001b[1;32m----> 3\u001b[1;33m \u001b[0mwine_df\u001b[0m\u001b[1;33m.\u001b[0m\u001b[0mto_sql\u001b[0m\u001b[1;33m(\u001b[0m\u001b[0mname\u001b[0m\u001b[1;33m=\u001b[0m\u001b[1;34m'wine'\u001b[0m\u001b[1;33m,\u001b[0m \u001b[0mcon\u001b[0m\u001b[1;33m=\u001b[0m\u001b[0mengine\u001b[0m\u001b[1;33m,\u001b[0m \u001b[0mif_exists\u001b[0m\u001b[1;33m=\u001b[0m\u001b[1;34m'append'\u001b[0m\u001b[1;33m,\u001b[0m \u001b[0mindex\u001b[0m\u001b[1;33m=\u001b[0m\u001b[1;32mFalse\u001b[0m\u001b[1;33m)\u001b[0m\u001b[1;33m\u001b[0m\u001b[1;33m\u001b[0m\u001b[0m\n\u001b[0m\u001b[0;32m      4\u001b[0m \u001b[1;33m\u001b[0m\u001b[0m\n",
      "\u001b[1;32m~\\anaconda3\\envs\\PythonData\\lib\\site-packages\\pandas\\core\\generic.py\u001b[0m in \u001b[0;36mto_sql\u001b[1;34m(self, name, con, schema, if_exists, index, index_label, chunksize, dtype, method)\u001b[0m\n\u001b[0;32m   2661\u001b[0m             \u001b[0mchunksize\u001b[0m\u001b[1;33m=\u001b[0m\u001b[0mchunksize\u001b[0m\u001b[1;33m,\u001b[0m\u001b[1;33m\u001b[0m\u001b[1;33m\u001b[0m\u001b[0m\n\u001b[0;32m   2662\u001b[0m             \u001b[0mdtype\u001b[0m\u001b[1;33m=\u001b[0m\u001b[0mdtype\u001b[0m\u001b[1;33m,\u001b[0m\u001b[1;33m\u001b[0m\u001b[1;33m\u001b[0m\u001b[0m\n\u001b[1;32m-> 2663\u001b[1;33m             \u001b[0mmethod\u001b[0m\u001b[1;33m=\u001b[0m\u001b[0mmethod\u001b[0m\u001b[1;33m,\u001b[0m\u001b[1;33m\u001b[0m\u001b[1;33m\u001b[0m\u001b[0m\n\u001b[0m\u001b[0;32m   2664\u001b[0m         )\n\u001b[0;32m   2665\u001b[0m \u001b[1;33m\u001b[0m\u001b[0m\n",
      "\u001b[1;32m~\\anaconda3\\envs\\PythonData\\lib\\site-packages\\pandas\\io\\sql.py\u001b[0m in \u001b[0;36mto_sql\u001b[1;34m(frame, name, con, schema, if_exists, index, index_label, chunksize, dtype, method)\u001b[0m\n\u001b[0;32m    519\u001b[0m         \u001b[0mchunksize\u001b[0m\u001b[1;33m=\u001b[0m\u001b[0mchunksize\u001b[0m\u001b[1;33m,\u001b[0m\u001b[1;33m\u001b[0m\u001b[1;33m\u001b[0m\u001b[0m\n\u001b[0;32m    520\u001b[0m         \u001b[0mdtype\u001b[0m\u001b[1;33m=\u001b[0m\u001b[0mdtype\u001b[0m\u001b[1;33m,\u001b[0m\u001b[1;33m\u001b[0m\u001b[1;33m\u001b[0m\u001b[0m\n\u001b[1;32m--> 521\u001b[1;33m         \u001b[0mmethod\u001b[0m\u001b[1;33m=\u001b[0m\u001b[0mmethod\u001b[0m\u001b[1;33m,\u001b[0m\u001b[1;33m\u001b[0m\u001b[1;33m\u001b[0m\u001b[0m\n\u001b[0m\u001b[0;32m    522\u001b[0m     )\n\u001b[0;32m    523\u001b[0m \u001b[1;33m\u001b[0m\u001b[0m\n",
      "\u001b[1;32m~\\anaconda3\\envs\\PythonData\\lib\\site-packages\\pandas\\io\\sql.py\u001b[0m in \u001b[0;36mto_sql\u001b[1;34m(self, frame, name, if_exists, index, index_label, schema, chunksize, dtype, method)\u001b[0m\n\u001b[0;32m   1315\u001b[0m         )\n\u001b[0;32m   1316\u001b[0m         \u001b[0mtable\u001b[0m\u001b[1;33m.\u001b[0m\u001b[0mcreate\u001b[0m\u001b[1;33m(\u001b[0m\u001b[1;33m)\u001b[0m\u001b[1;33m\u001b[0m\u001b[1;33m\u001b[0m\u001b[0m\n\u001b[1;32m-> 1317\u001b[1;33m         \u001b[0mtable\u001b[0m\u001b[1;33m.\u001b[0m\u001b[0minsert\u001b[0m\u001b[1;33m(\u001b[0m\u001b[0mchunksize\u001b[0m\u001b[1;33m,\u001b[0m \u001b[0mmethod\u001b[0m\u001b[1;33m=\u001b[0m\u001b[0mmethod\u001b[0m\u001b[1;33m)\u001b[0m\u001b[1;33m\u001b[0m\u001b[1;33m\u001b[0m\u001b[0m\n\u001b[0m\u001b[0;32m   1318\u001b[0m         \u001b[1;32mif\u001b[0m \u001b[1;32mnot\u001b[0m \u001b[0mname\u001b[0m\u001b[1;33m.\u001b[0m\u001b[0misdigit\u001b[0m\u001b[1;33m(\u001b[0m\u001b[1;33m)\u001b[0m \u001b[1;32mand\u001b[0m \u001b[1;32mnot\u001b[0m \u001b[0mname\u001b[0m\u001b[1;33m.\u001b[0m\u001b[0mislower\u001b[0m\u001b[1;33m(\u001b[0m\u001b[1;33m)\u001b[0m\u001b[1;33m:\u001b[0m\u001b[1;33m\u001b[0m\u001b[1;33m\u001b[0m\u001b[0m\n\u001b[0;32m   1319\u001b[0m             \u001b[1;31m# check for potentially case sensitivity issues (GH7815)\u001b[0m\u001b[1;33m\u001b[0m\u001b[1;33m\u001b[0m\u001b[1;33m\u001b[0m\u001b[0m\n",
      "\u001b[1;32m~\\anaconda3\\envs\\PythonData\\lib\\site-packages\\pandas\\io\\sql.py\u001b[0m in \u001b[0;36minsert\u001b[1;34m(self, chunksize, method)\u001b[0m\n\u001b[0;32m    753\u001b[0m \u001b[1;33m\u001b[0m\u001b[0m\n\u001b[0;32m    754\u001b[0m                 \u001b[0mchunk_iter\u001b[0m \u001b[1;33m=\u001b[0m \u001b[0mzip\u001b[0m\u001b[1;33m(\u001b[0m\u001b[1;33m*\u001b[0m\u001b[1;33m[\u001b[0m\u001b[0marr\u001b[0m\u001b[1;33m[\u001b[0m\u001b[0mstart_i\u001b[0m\u001b[1;33m:\u001b[0m\u001b[0mend_i\u001b[0m\u001b[1;33m]\u001b[0m \u001b[1;32mfor\u001b[0m \u001b[0marr\u001b[0m \u001b[1;32min\u001b[0m \u001b[0mdata_list\u001b[0m\u001b[1;33m]\u001b[0m\u001b[1;33m)\u001b[0m\u001b[1;33m\u001b[0m\u001b[1;33m\u001b[0m\u001b[0m\n\u001b[1;32m--> 755\u001b[1;33m                 \u001b[0mexec_insert\u001b[0m\u001b[1;33m(\u001b[0m\u001b[0mconn\u001b[0m\u001b[1;33m,\u001b[0m \u001b[0mkeys\u001b[0m\u001b[1;33m,\u001b[0m \u001b[0mchunk_iter\u001b[0m\u001b[1;33m)\u001b[0m\u001b[1;33m\u001b[0m\u001b[1;33m\u001b[0m\u001b[0m\n\u001b[0m\u001b[0;32m    756\u001b[0m \u001b[1;33m\u001b[0m\u001b[0m\n\u001b[0;32m    757\u001b[0m     def _query_iterator(\n",
      "\u001b[1;32m~\\anaconda3\\envs\\PythonData\\lib\\site-packages\\pandas\\io\\sql.py\u001b[0m in \u001b[0;36m_execute_insert\u001b[1;34m(self, conn, keys, data_iter)\u001b[0m\n\u001b[0;32m    667\u001b[0m         \"\"\"\n\u001b[0;32m    668\u001b[0m         \u001b[0mdata\u001b[0m \u001b[1;33m=\u001b[0m \u001b[1;33m[\u001b[0m\u001b[0mdict\u001b[0m\u001b[1;33m(\u001b[0m\u001b[0mzip\u001b[0m\u001b[1;33m(\u001b[0m\u001b[0mkeys\u001b[0m\u001b[1;33m,\u001b[0m \u001b[0mrow\u001b[0m\u001b[1;33m)\u001b[0m\u001b[1;33m)\u001b[0m \u001b[1;32mfor\u001b[0m \u001b[0mrow\u001b[0m \u001b[1;32min\u001b[0m \u001b[0mdata_iter\u001b[0m\u001b[1;33m]\u001b[0m\u001b[1;33m\u001b[0m\u001b[1;33m\u001b[0m\u001b[0m\n\u001b[1;32m--> 669\u001b[1;33m         \u001b[0mconn\u001b[0m\u001b[1;33m.\u001b[0m\u001b[0mexecute\u001b[0m\u001b[1;33m(\u001b[0m\u001b[0mself\u001b[0m\u001b[1;33m.\u001b[0m\u001b[0mtable\u001b[0m\u001b[1;33m.\u001b[0m\u001b[0minsert\u001b[0m\u001b[1;33m(\u001b[0m\u001b[1;33m)\u001b[0m\u001b[1;33m,\u001b[0m \u001b[0mdata\u001b[0m\u001b[1;33m)\u001b[0m\u001b[1;33m\u001b[0m\u001b[1;33m\u001b[0m\u001b[0m\n\u001b[0m\u001b[0;32m    670\u001b[0m \u001b[1;33m\u001b[0m\u001b[0m\n\u001b[0;32m    671\u001b[0m     \u001b[1;32mdef\u001b[0m \u001b[0m_execute_insert_multi\u001b[0m\u001b[1;33m(\u001b[0m\u001b[0mself\u001b[0m\u001b[1;33m,\u001b[0m \u001b[0mconn\u001b[0m\u001b[1;33m,\u001b[0m \u001b[0mkeys\u001b[0m\u001b[1;33m,\u001b[0m \u001b[0mdata_iter\u001b[0m\u001b[1;33m)\u001b[0m\u001b[1;33m:\u001b[0m\u001b[1;33m\u001b[0m\u001b[1;33m\u001b[0m\u001b[0m\n",
      "\u001b[1;32m~\\anaconda3\\envs\\PythonData\\lib\\site-packages\\sqlalchemy\\engine\\base.py\u001b[0m in \u001b[0;36mexecute\u001b[1;34m(self, object_, *multiparams, **params)\u001b[0m\n\u001b[0;32m   1018\u001b[0m             )\n\u001b[0;32m   1019\u001b[0m         \u001b[1;32melse\u001b[0m\u001b[1;33m:\u001b[0m\u001b[1;33m\u001b[0m\u001b[1;33m\u001b[0m\u001b[0m\n\u001b[1;32m-> 1020\u001b[1;33m             \u001b[1;32mreturn\u001b[0m \u001b[0mmeth\u001b[0m\u001b[1;33m(\u001b[0m\u001b[0mself\u001b[0m\u001b[1;33m,\u001b[0m \u001b[0mmultiparams\u001b[0m\u001b[1;33m,\u001b[0m \u001b[0mparams\u001b[0m\u001b[1;33m)\u001b[0m\u001b[1;33m\u001b[0m\u001b[1;33m\u001b[0m\u001b[0m\n\u001b[0m\u001b[0;32m   1021\u001b[0m \u001b[1;33m\u001b[0m\u001b[0m\n\u001b[0;32m   1022\u001b[0m     \u001b[1;32mdef\u001b[0m \u001b[0m_execute_function\u001b[0m\u001b[1;33m(\u001b[0m\u001b[0mself\u001b[0m\u001b[1;33m,\u001b[0m \u001b[0mfunc\u001b[0m\u001b[1;33m,\u001b[0m \u001b[0mmultiparams\u001b[0m\u001b[1;33m,\u001b[0m \u001b[0mparams\u001b[0m\u001b[1;33m)\u001b[0m\u001b[1;33m:\u001b[0m\u001b[1;33m\u001b[0m\u001b[1;33m\u001b[0m\u001b[0m\n",
      "\u001b[1;32m~\\anaconda3\\envs\\PythonData\\lib\\site-packages\\sqlalchemy\\sql\\elements.py\u001b[0m in \u001b[0;36m_execute_on_connection\u001b[1;34m(self, connection, multiparams, params)\u001b[0m\n\u001b[0;32m    296\u001b[0m     \u001b[1;32mdef\u001b[0m \u001b[0m_execute_on_connection\u001b[0m\u001b[1;33m(\u001b[0m\u001b[0mself\u001b[0m\u001b[1;33m,\u001b[0m \u001b[0mconnection\u001b[0m\u001b[1;33m,\u001b[0m \u001b[0mmultiparams\u001b[0m\u001b[1;33m,\u001b[0m \u001b[0mparams\u001b[0m\u001b[1;33m)\u001b[0m\u001b[1;33m:\u001b[0m\u001b[1;33m\u001b[0m\u001b[1;33m\u001b[0m\u001b[0m\n\u001b[0;32m    297\u001b[0m         \u001b[1;32mif\u001b[0m \u001b[0mself\u001b[0m\u001b[1;33m.\u001b[0m\u001b[0msupports_execution\u001b[0m\u001b[1;33m:\u001b[0m\u001b[1;33m\u001b[0m\u001b[1;33m\u001b[0m\u001b[0m\n\u001b[1;32m--> 298\u001b[1;33m             \u001b[1;32mreturn\u001b[0m \u001b[0mconnection\u001b[0m\u001b[1;33m.\u001b[0m\u001b[0m_execute_clauseelement\u001b[0m\u001b[1;33m(\u001b[0m\u001b[0mself\u001b[0m\u001b[1;33m,\u001b[0m \u001b[0mmultiparams\u001b[0m\u001b[1;33m,\u001b[0m \u001b[0mparams\u001b[0m\u001b[1;33m)\u001b[0m\u001b[1;33m\u001b[0m\u001b[1;33m\u001b[0m\u001b[0m\n\u001b[0m\u001b[0;32m    299\u001b[0m         \u001b[1;32melse\u001b[0m\u001b[1;33m:\u001b[0m\u001b[1;33m\u001b[0m\u001b[1;33m\u001b[0m\u001b[0m\n\u001b[0;32m    300\u001b[0m             \u001b[1;32mraise\u001b[0m \u001b[0mexc\u001b[0m\u001b[1;33m.\u001b[0m\u001b[0mObjectNotExecutableError\u001b[0m\u001b[1;33m(\u001b[0m\u001b[0mself\u001b[0m\u001b[1;33m)\u001b[0m\u001b[1;33m\u001b[0m\u001b[1;33m\u001b[0m\u001b[0m\n",
      "\u001b[1;32m~\\anaconda3\\envs\\PythonData\\lib\\site-packages\\sqlalchemy\\engine\\base.py\u001b[0m in \u001b[0;36m_execute_clauseelement\u001b[1;34m(self, elem, multiparams, params)\u001b[0m\n\u001b[0;32m   1137\u001b[0m             \u001b[0mdistilled_params\u001b[0m\u001b[1;33m,\u001b[0m\u001b[1;33m\u001b[0m\u001b[1;33m\u001b[0m\u001b[0m\n\u001b[0;32m   1138\u001b[0m             \u001b[0mcompiled_sql\u001b[0m\u001b[1;33m,\u001b[0m\u001b[1;33m\u001b[0m\u001b[1;33m\u001b[0m\u001b[0m\n\u001b[1;32m-> 1139\u001b[1;33m             \u001b[0mdistilled_params\u001b[0m\u001b[1;33m,\u001b[0m\u001b[1;33m\u001b[0m\u001b[1;33m\u001b[0m\u001b[0m\n\u001b[0m\u001b[0;32m   1140\u001b[0m         )\n\u001b[0;32m   1141\u001b[0m         \u001b[1;32mif\u001b[0m \u001b[0mself\u001b[0m\u001b[1;33m.\u001b[0m\u001b[0m_has_events\u001b[0m \u001b[1;32mor\u001b[0m \u001b[0mself\u001b[0m\u001b[1;33m.\u001b[0m\u001b[0mengine\u001b[0m\u001b[1;33m.\u001b[0m\u001b[0m_has_events\u001b[0m\u001b[1;33m:\u001b[0m\u001b[1;33m\u001b[0m\u001b[1;33m\u001b[0m\u001b[0m\n",
      "\u001b[1;32m~\\anaconda3\\envs\\PythonData\\lib\\site-packages\\sqlalchemy\\engine\\base.py\u001b[0m in \u001b[0;36m_execute_context\u001b[1;34m(self, dialect, constructor, statement, parameters, *args)\u001b[0m\n\u001b[0;32m   1322\u001b[0m         \u001b[1;32mexcept\u001b[0m \u001b[0mBaseException\u001b[0m \u001b[1;32mas\u001b[0m \u001b[0me\u001b[0m\u001b[1;33m:\u001b[0m\u001b[1;33m\u001b[0m\u001b[1;33m\u001b[0m\u001b[0m\n\u001b[0;32m   1323\u001b[0m             self._handle_dbapi_exception(\n\u001b[1;32m-> 1324\u001b[1;33m                 \u001b[0me\u001b[0m\u001b[1;33m,\u001b[0m \u001b[0mstatement\u001b[0m\u001b[1;33m,\u001b[0m \u001b[0mparameters\u001b[0m\u001b[1;33m,\u001b[0m \u001b[0mcursor\u001b[0m\u001b[1;33m,\u001b[0m \u001b[0mcontext\u001b[0m\u001b[1;33m\u001b[0m\u001b[1;33m\u001b[0m\u001b[0m\n\u001b[0m\u001b[0;32m   1325\u001b[0m             )\n\u001b[0;32m   1326\u001b[0m \u001b[1;33m\u001b[0m\u001b[0m\n",
      "\u001b[1;32m~\\anaconda3\\envs\\PythonData\\lib\\site-packages\\sqlalchemy\\engine\\base.py\u001b[0m in \u001b[0;36m_handle_dbapi_exception\u001b[1;34m(self, e, statement, parameters, cursor, context)\u001b[0m\n\u001b[0;32m   1516\u001b[0m             \u001b[1;32melif\u001b[0m \u001b[0mshould_wrap\u001b[0m\u001b[1;33m:\u001b[0m\u001b[1;33m\u001b[0m\u001b[1;33m\u001b[0m\u001b[0m\n\u001b[0;32m   1517\u001b[0m                 util.raise_(\n\u001b[1;32m-> 1518\u001b[1;33m                     \u001b[0msqlalchemy_exception\u001b[0m\u001b[1;33m,\u001b[0m \u001b[0mwith_traceback\u001b[0m\u001b[1;33m=\u001b[0m\u001b[0mexc_info\u001b[0m\u001b[1;33m[\u001b[0m\u001b[1;36m2\u001b[0m\u001b[1;33m]\u001b[0m\u001b[1;33m,\u001b[0m \u001b[0mfrom_\u001b[0m\u001b[1;33m=\u001b[0m\u001b[0me\u001b[0m\u001b[1;33m\u001b[0m\u001b[1;33m\u001b[0m\u001b[0m\n\u001b[0m\u001b[0;32m   1519\u001b[0m                 )\n\u001b[0;32m   1520\u001b[0m             \u001b[1;32melse\u001b[0m\u001b[1;33m:\u001b[0m\u001b[1;33m\u001b[0m\u001b[1;33m\u001b[0m\u001b[0m\n",
      "\u001b[1;32m~\\anaconda3\\envs\\PythonData\\lib\\site-packages\\sqlalchemy\\util\\compat.py\u001b[0m in \u001b[0;36mraise_\u001b[1;34m(***failed resolving arguments***)\u001b[0m\n\u001b[0;32m    176\u001b[0m \u001b[1;33m\u001b[0m\u001b[0m\n\u001b[0;32m    177\u001b[0m         \u001b[1;32mtry\u001b[0m\u001b[1;33m:\u001b[0m\u001b[1;33m\u001b[0m\u001b[1;33m\u001b[0m\u001b[0m\n\u001b[1;32m--> 178\u001b[1;33m             \u001b[1;32mraise\u001b[0m \u001b[0mexception\u001b[0m\u001b[1;33m\u001b[0m\u001b[1;33m\u001b[0m\u001b[0m\n\u001b[0m\u001b[0;32m    179\u001b[0m         \u001b[1;32mfinally\u001b[0m\u001b[1;33m:\u001b[0m\u001b[1;33m\u001b[0m\u001b[1;33m\u001b[0m\u001b[0m\n\u001b[0;32m    180\u001b[0m             \u001b[1;31m# credit to\u001b[0m\u001b[1;33m\u001b[0m\u001b[1;33m\u001b[0m\u001b[1;33m\u001b[0m\u001b[0m\n",
      "\u001b[1;32m~\\anaconda3\\envs\\PythonData\\lib\\site-packages\\sqlalchemy\\engine\\base.py\u001b[0m in \u001b[0;36m_execute_context\u001b[1;34m(self, dialect, constructor, statement, parameters, *args)\u001b[0m\n\u001b[0;32m   1262\u001b[0m                 \u001b[1;32mif\u001b[0m \u001b[1;32mnot\u001b[0m \u001b[0mevt_handled\u001b[0m\u001b[1;33m:\u001b[0m\u001b[1;33m\u001b[0m\u001b[1;33m\u001b[0m\u001b[0m\n\u001b[0;32m   1263\u001b[0m                     self.dialect.do_executemany(\n\u001b[1;32m-> 1264\u001b[1;33m                         \u001b[0mcursor\u001b[0m\u001b[1;33m,\u001b[0m \u001b[0mstatement\u001b[0m\u001b[1;33m,\u001b[0m \u001b[0mparameters\u001b[0m\u001b[1;33m,\u001b[0m \u001b[0mcontext\u001b[0m\u001b[1;33m\u001b[0m\u001b[1;33m\u001b[0m\u001b[0m\n\u001b[0m\u001b[0;32m   1265\u001b[0m                     )\n\u001b[0;32m   1266\u001b[0m             \u001b[1;32melif\u001b[0m \u001b[1;32mnot\u001b[0m \u001b[0mparameters\u001b[0m \u001b[1;32mand\u001b[0m \u001b[0mcontext\u001b[0m\u001b[1;33m.\u001b[0m\u001b[0mno_parameters\u001b[0m\u001b[1;33m:\u001b[0m\u001b[1;33m\u001b[0m\u001b[1;33m\u001b[0m\u001b[0m\n",
      "\u001b[1;32m~\\anaconda3\\envs\\PythonData\\lib\\site-packages\\sqlalchemy\\engine\\default.py\u001b[0m in \u001b[0;36mdo_executemany\u001b[1;34m(self, cursor, statement, parameters, context)\u001b[0m\n\u001b[0;32m    585\u001b[0m \u001b[1;33m\u001b[0m\u001b[0m\n\u001b[0;32m    586\u001b[0m     \u001b[1;32mdef\u001b[0m \u001b[0mdo_executemany\u001b[0m\u001b[1;33m(\u001b[0m\u001b[0mself\u001b[0m\u001b[1;33m,\u001b[0m \u001b[0mcursor\u001b[0m\u001b[1;33m,\u001b[0m \u001b[0mstatement\u001b[0m\u001b[1;33m,\u001b[0m \u001b[0mparameters\u001b[0m\u001b[1;33m,\u001b[0m \u001b[0mcontext\u001b[0m\u001b[1;33m=\u001b[0m\u001b[1;32mNone\u001b[0m\u001b[1;33m)\u001b[0m\u001b[1;33m:\u001b[0m\u001b[1;33m\u001b[0m\u001b[1;33m\u001b[0m\u001b[0m\n\u001b[1;32m--> 587\u001b[1;33m         \u001b[0mcursor\u001b[0m\u001b[1;33m.\u001b[0m\u001b[0mexecutemany\u001b[0m\u001b[1;33m(\u001b[0m\u001b[0mstatement\u001b[0m\u001b[1;33m,\u001b[0m \u001b[0mparameters\u001b[0m\u001b[1;33m)\u001b[0m\u001b[1;33m\u001b[0m\u001b[1;33m\u001b[0m\u001b[0m\n\u001b[0m\u001b[0;32m    588\u001b[0m \u001b[1;33m\u001b[0m\u001b[0m\n\u001b[0;32m    589\u001b[0m     \u001b[1;32mdef\u001b[0m \u001b[0mdo_execute\u001b[0m\u001b[1;33m(\u001b[0m\u001b[0mself\u001b[0m\u001b[1;33m,\u001b[0m \u001b[0mcursor\u001b[0m\u001b[1;33m,\u001b[0m \u001b[0mstatement\u001b[0m\u001b[1;33m,\u001b[0m \u001b[0mparameters\u001b[0m\u001b[1;33m,\u001b[0m \u001b[0mcontext\u001b[0m\u001b[1;33m=\u001b[0m\u001b[1;32mNone\u001b[0m\u001b[1;33m)\u001b[0m\u001b[1;33m:\u001b[0m\u001b[1;33m\u001b[0m\u001b[1;33m\u001b[0m\u001b[0m\n",
      "\u001b[1;31mIntegrityError\u001b[0m: (sqlite3.IntegrityError) UNIQUE constraint failed: wine.id\n[SQL: INSERT INTO wine (id, title, country, points, price, province, variety, winery) VALUES (?, ?, ?, ?, ?, ?, ?, ?)]\n[parameters: ((0, \"L'Arboc NV 1919 Brut SelecciÃƒÂ³ Sparkling (Cava)\", 'Spain', 88, '$13.00 ', 'Catalonia', 'Sparkling Blend', \"L'Arboc\"), (1, 'Guidi 1929 2015 Vernaccia di San Gimignano', 'Italy', 87, '$14.00 ', 'Tuscany', 'Vernaccia', 'Guidi 1929'), (2, 'Poderi dal Nespoli 1929 2011 Prugneto (Sangiovese di Romagna Superiore)', 'Italy', 84, '$15.00 ', 'Central Italy', 'Sangiovese', 'Poderi dal Nespoli 1929'), (3, 'Adega Viuva Gomes 1934 Reserva Velho Red (Colares)', 'Portugal', 93, '$495.00 ', 'Colares', 'Ramisco', 'Adega Viuva Gomes'), (4, 'GÃƒÂ©rard Bertrand 1945 Legend Vintage Red (Rivesaltes)', 'France', 95, '$350.00 ', 'Languedoc-Roussillon', 'Red Blend', 'GÃƒÂ©rard Bertrand'), (5, 'Burmester 1952 Colheita Tawny (Port)', 'Portugal', 96, '$415.00 ', 'Port', 'Port', 'Burmester'), (6, 'Messias 1963 Colheita Tawny (Port)', 'Portugal', 96, '$400.00 ', 'Port', 'Port', 'Messias'), (7, 'Barros 1974 Colheita Tawny (Port)', 'Portugal', 93, '$175.00 ', 'Port', 'Port', 'Barros')  ... displaying 10 of 24997 total bound parameter sets ...  (24995, 'Osborne NV Pedro Ximenez 1827 Sweet Sherry Sherry (Jerez)', 'Spain', 94, '$14.00 ', 'Andalucia', 'Sherry', 'Osborne'), (24996, 'CodornÃƒÂ\\xadu NV Reserva CuvÃƒÂ©e Barcelona 1872 Sparkling (Cava)', 'Spain', 85, None, 'Catalonia', 'Sparkling Blend', 'CodornÃƒÂ\\xadu'))]\n(Background on this error at: http://sqlalche.me/e/gkpj)"
     ]
    }
   ],
   "source": [
    "# WINE turn pandas csv dataframe into sqlite database \n",
=======
   "execution_count": 25,
   "metadata": {},
   "outputs": [
    {
     "data": {
      "text/plain": [
       "<sqlalchemy.engine.result.ResultProxy at 0x122691160>"
      ]
     },
     "execution_count": 25,
     "metadata": {},
     "output_type": "execute_result"
    }
   ],
   "source": [
    "res"
   ]
  },
  {
   "cell_type": "code",
   "execution_count": 15,
   "metadata": {},
   "outputs": [],
   "source": [
    "# WINE turn pandas csv dataframe into sqlite database imports\n",
>>>>>>> e5a320a99c3e8b363c4e501281dd82b348e640be
    "\n",
    "wine_df.to_sql(name='wine', con=engine, if_exists='append', index=False)\n",
    "\n"
   ]
  },
  {
   "cell_type": "code",
<<<<<<< HEAD
   "execution_count": 1,
   "metadata": {},
   "outputs": [
    {
     "ename": "NameError",
     "evalue": "name 'wine_df' is not defined",
     "output_type": "error",
     "traceback": [
      "\u001b[1;31m---------------------------------------------------------------------------\u001b[0m",
      "\u001b[1;31mNameError\u001b[0m                                 Traceback (most recent call last)",
      "\u001b[1;32m<ipython-input-1-f144b4a0922a>\u001b[0m in \u001b[0;36m<module>\u001b[1;34m\u001b[0m\n\u001b[0;32m      1\u001b[0m \u001b[1;31m# replace columns names for wine\u001b[0m\u001b[1;33m\u001b[0m\u001b[1;33m\u001b[0m\u001b[1;33m\u001b[0m\u001b[0m\n\u001b[0;32m      2\u001b[0m \u001b[1;31m# 'id', 'title', 'country', 'points', 'price', 'province', 'variety', 'winery\u001b[0m\u001b[1;33m\u001b[0m\u001b[1;33m\u001b[0m\u001b[1;33m\u001b[0m\u001b[0m\n\u001b[1;32m----> 3\u001b[1;33m \u001b[0mwine_all\u001b[0m \u001b[1;33m=\u001b[0m \u001b[0mwine_df\u001b[0m\u001b[1;33m.\u001b[0m\u001b[0mrename\u001b[0m\u001b[1;33m(\u001b[0m\u001b[0mcolumns\u001b[0m\u001b[1;33m=\u001b[0m\u001b[1;33m{\u001b[0m\u001b[1;34m'0'\u001b[0m\u001b[1;33m:\u001b[0m \u001b[1;34m'ID'\u001b[0m\u001b[1;33m,\u001b[0m \u001b[1;34m'1'\u001b[0m\u001b[1;33m:\u001b[0m \u001b[1;34m'Title'\u001b[0m\u001b[1;33m,\u001b[0m \u001b[1;34m'2'\u001b[0m\u001b[1;33m:\u001b[0m \u001b[1;34m'Country'\u001b[0m\u001b[1;33m,\u001b[0m \u001b[1;34m'3'\u001b[0m\u001b[1;33m:\u001b[0m \u001b[1;34m'Points'\u001b[0m\u001b[1;33m,\u001b[0m \u001b[1;34m'4'\u001b[0m\u001b[1;33m:\u001b[0m \u001b[1;34m'Price'\u001b[0m\u001b[1;33m,\u001b[0m \u001b[1;34m'5'\u001b[0m\u001b[1;33m:\u001b[0m \u001b[1;34m'Province'\u001b[0m\u001b[1;33m,\u001b[0m \u001b[1;34m'6'\u001b[0m\u001b[1;33m:\u001b[0m \u001b[1;34m'Variety'\u001b[0m \u001b[1;33m,\u001b[0m \u001b[1;34m'7'\u001b[0m\u001b[1;33m:\u001b[0m\u001b[1;34m'Winery'\u001b[0m \u001b[1;33m}\u001b[0m\u001b[1;33m)\u001b[0m\u001b[1;33m\u001b[0m\u001b[1;33m\u001b[0m\u001b[0m\n\u001b[0m\u001b[0;32m      4\u001b[0m \u001b[0mwine_all\u001b[0m\u001b[1;33m.\u001b[0m\u001b[0mhead\u001b[0m\u001b[1;33m(\u001b[0m\u001b[1;33m)\u001b[0m\u001b[1;33m\u001b[0m\u001b[1;33m\u001b[0m\u001b[0m\n",
      "\u001b[1;31mNameError\u001b[0m: name 'wine_df' is not defined"
     ]
=======
   "execution_count": 16,
   "metadata": {},
   "outputs": [
    {
     "data": {
      "text/html": [
       "<div>\n",
       "<style scoped>\n",
       "    .dataframe tbody tr th:only-of-type {\n",
       "        vertical-align: middle;\n",
       "    }\n",
       "\n",
       "    .dataframe tbody tr th {\n",
       "        vertical-align: top;\n",
       "    }\n",
       "\n",
       "    .dataframe thead th {\n",
       "        text-align: right;\n",
       "    }\n",
       "</style>\n",
       "<table border=\"1\" class=\"dataframe\">\n",
       "  <thead>\n",
       "    <tr style=\"text-align: right;\">\n",
       "      <th></th>\n",
       "      <th>title</th>\n",
       "      <th>country</th>\n",
       "      <th>points</th>\n",
       "      <th>price</th>\n",
       "      <th>province</th>\n",
       "      <th>variety</th>\n",
       "      <th>winery</th>\n",
       "    </tr>\n",
       "  </thead>\n",
       "  <tbody>\n",
       "    <tr>\n",
       "      <th>0</th>\n",
       "      <td>L'Arboc NV 1919 Brut SelecciÃƒÂ³ Sparkling (Cava)</td>\n",
       "      <td>Spain</td>\n",
       "      <td>88</td>\n",
       "      <td>$13.00</td>\n",
       "      <td>Catalonia</td>\n",
       "      <td>Sparkling Blend</td>\n",
       "      <td>L'Arboc</td>\n",
       "    </tr>\n",
       "    <tr>\n",
       "      <th>1</th>\n",
       "      <td>Guidi 1929 2015 Vernaccia di San Gimignano</td>\n",
       "      <td>Italy</td>\n",
       "      <td>87</td>\n",
       "      <td>$14.00</td>\n",
       "      <td>Tuscany</td>\n",
       "      <td>Vernaccia</td>\n",
       "      <td>Guidi 1929</td>\n",
       "    </tr>\n",
       "    <tr>\n",
       "      <th>2</th>\n",
       "      <td>Poderi dal Nespoli 1929 2011 Prugneto (Sangiov...</td>\n",
       "      <td>Italy</td>\n",
       "      <td>84</td>\n",
       "      <td>$15.00</td>\n",
       "      <td>Central Italy</td>\n",
       "      <td>Sangiovese</td>\n",
       "      <td>Poderi dal Nespoli 1929</td>\n",
       "    </tr>\n",
       "    <tr>\n",
       "      <th>3</th>\n",
       "      <td>Adega Viuva Gomes 1934 Reserva Velho Red (Cola...</td>\n",
       "      <td>Portugal</td>\n",
       "      <td>93</td>\n",
       "      <td>$495.00</td>\n",
       "      <td>Colares</td>\n",
       "      <td>Ramisco</td>\n",
       "      <td>Adega Viuva Gomes</td>\n",
       "    </tr>\n",
       "    <tr>\n",
       "      <th>4</th>\n",
       "      <td>GÃƒÂ©rard Bertrand 1945 Legend Vintage Red (Ri...</td>\n",
       "      <td>France</td>\n",
       "      <td>95</td>\n",
       "      <td>$350.00</td>\n",
       "      <td>Languedoc-Roussillon</td>\n",
       "      <td>Red Blend</td>\n",
       "      <td>GÃƒÂ©rard Bertrand</td>\n",
       "    </tr>\n",
       "  </tbody>\n",
       "</table>\n",
       "</div>"
      ],
      "text/plain": [
       "                                               title   country  points  \\\n",
       "0  L'Arboc NV 1919 Brut SelecciÃƒÂ³ Sparkling (Cava)     Spain      88   \n",
       "1         Guidi 1929 2015 Vernaccia di San Gimignano     Italy      87   \n",
       "2  Poderi dal Nespoli 1929 2011 Prugneto (Sangiov...     Italy      84   \n",
       "3  Adega Viuva Gomes 1934 Reserva Velho Red (Cola...  Portugal      93   \n",
       "4  GÃƒÂ©rard Bertrand 1945 Legend Vintage Red (Ri...    France      95   \n",
       "\n",
       "      price              province          variety                   winery  \n",
       "0   $13.00              Catalonia  Sparkling Blend                  L'Arboc  \n",
       "1   $14.00                Tuscany        Vernaccia               Guidi 1929  \n",
       "2   $15.00          Central Italy       Sangiovese  Poderi dal Nespoli 1929  \n",
       "3  $495.00                Colares          Ramisco        Adega Viuva Gomes  \n",
       "4  $350.00   Languedoc-Roussillon        Red Blend       GÃƒÂ©rard Bertrand  "
      ]
     },
     "execution_count": 16,
     "metadata": {},
     "output_type": "execute_result"
>>>>>>> e5a320a99c3e8b363c4e501281dd82b348e640be
    }
   ],
   "source": [
    "# replace columns names for wine\n",
    "# 'id', 'title', 'country', 'points', 'price', 'province', 'variety', 'winery\n",
    "wine_all = wine_df.rename(columns={'0': 'ID', '1': 'Title', '2': 'Country', '3': 'Points', '4': 'Price', '5': 'Province', '6': 'Variety' , '7':'Winery' })\n",
    "wine_all.head()"
   ]
  },
  {
   "cell_type": "code",
<<<<<<< HEAD
   "execution_count": 15,
=======
   "execution_count": null,
   "metadata": {},
   "outputs": [],
   "source": [
    "# wine_all.set_index(id)\n",
    "# wine_all.drop(\"id\")"
   ]
  },
  {
   "cell_type": "code",
   "execution_count": 17,
>>>>>>> e5a320a99c3e8b363c4e501281dd82b348e640be
   "metadata": {},
   "outputs": [
    {
     "data": {
      "text/html": [
       "<div>\n",
       "<style scoped>\n",
       "    .dataframe tbody tr th:only-of-type {\n",
       "        vertical-align: middle;\n",
       "    }\n",
       "\n",
       "    .dataframe tbody tr th {\n",
       "        vertical-align: top;\n",
       "    }\n",
       "\n",
       "    .dataframe thead th {\n",
       "        text-align: right;\n",
       "    }\n",
       "</style>\n",
       "<table border=\"1\" class=\"dataframe\">\n",
       "  <thead>\n",
       "    <tr style=\"text-align: right;\">\n",
       "      <th></th>\n",
       "      <th>id</th>\n",
       "      <th>title</th>\n",
       "      <th>country</th>\n",
       "      <th>points</th>\n",
       "      <th>price</th>\n",
       "      <th>province</th>\n",
       "      <th>variety</th>\n",
       "      <th>winery</th>\n",
       "    </tr>\n",
       "  </thead>\n",
       "  <tbody>\n",
       "    <tr>\n",
       "      <th>0</th>\n",
       "      <td>1</td>\n",
       "      <td>L'Arboc NV 1919 Brut SelecciÃƒÂ³ Sparkling (Cava)</td>\n",
       "      <td>Spain</td>\n",
       "      <td>88</td>\n",
       "      <td>$13.00</td>\n",
       "      <td>Catalonia</td>\n",
       "      <td>Sparkling Blend</td>\n",
       "      <td>L'Arboc</td>\n",
       "    </tr>\n",
       "    <tr>\n",
       "      <th>1</th>\n",
       "      <td>2</td>\n",
       "      <td>Guidi 1929 2015 Vernaccia di San Gimignano</td>\n",
       "      <td>Italy</td>\n",
       "      <td>87</td>\n",
       "      <td>$14.00</td>\n",
       "      <td>Tuscany</td>\n",
       "      <td>Vernaccia</td>\n",
       "      <td>Guidi 1929</td>\n",
       "    </tr>\n",
       "    <tr>\n",
       "      <th>2</th>\n",
       "      <td>3</td>\n",
       "      <td>Poderi dal Nespoli 1929 2011 Prugneto (Sangiov...</td>\n",
       "      <td>Italy</td>\n",
       "      <td>84</td>\n",
       "      <td>$15.00</td>\n",
       "      <td>Central Italy</td>\n",
       "      <td>Sangiovese</td>\n",
       "      <td>Poderi dal Nespoli 1929</td>\n",
       "    </tr>\n",
       "    <tr>\n",
       "      <th>3</th>\n",
       "      <td>4</td>\n",
       "      <td>Adega Viuva Gomes 1934 Reserva Velho Red (Cola...</td>\n",
       "      <td>Portugal</td>\n",
       "      <td>93</td>\n",
       "      <td>$495.00</td>\n",
       "      <td>Colares</td>\n",
       "      <td>Ramisco</td>\n",
       "      <td>Adega Viuva Gomes</td>\n",
       "    </tr>\n",
       "    <tr>\n",
       "      <th>4</th>\n",
       "      <td>5</td>\n",
       "      <td>GÃƒÂ©rard Bertrand 1945 Legend Vintage Red (Ri...</td>\n",
       "      <td>France</td>\n",
       "      <td>95</td>\n",
       "      <td>$350.00</td>\n",
       "      <td>Languedoc-Roussillon</td>\n",
       "      <td>Red Blend</td>\n",
       "      <td>GÃƒÂ©rard Bertrand</td>\n",
       "    </tr>\n",
       "  </tbody>\n",
       "</table>\n",
       "</div>"
      ],
      "text/plain": [
       "   id                                              title   country  points  \\\n",
       "0   1  L'Arboc NV 1919 Brut SelecciÃƒÂ³ Sparkling (Cava)     Spain      88   \n",
       "1   2         Guidi 1929 2015 Vernaccia di San Gimignano     Italy      87   \n",
       "2   3  Poderi dal Nespoli 1929 2011 Prugneto (Sangiov...     Italy      84   \n",
       "3   4  Adega Viuva Gomes 1934 Reserva Velho Red (Cola...  Portugal      93   \n",
       "4   5  GÃƒÂ©rard Bertrand 1945 Legend Vintage Red (Ri...    France      95   \n",
       "\n",
       "      price              province          variety                   winery  \n",
       "0   $13.00              Catalonia  Sparkling Blend                  L'Arboc  \n",
       "1   $14.00                Tuscany        Vernaccia               Guidi 1929  \n",
       "2   $15.00          Central Italy       Sangiovese  Poderi dal Nespoli 1929  \n",
       "3  $495.00                Colares          Ramisco        Adega Viuva Gomes  \n",
       "4  $350.00   Languedoc-Roussillon        Red Blend       GÃƒÂ©rard Bertrand  "
      ]
     },
<<<<<<< HEAD
     "execution_count": 15,
=======
     "execution_count": 17,
>>>>>>> e5a320a99c3e8b363c4e501281dd82b348e640be
     "metadata": {},
     "output_type": "execute_result"
    }
   ],
   "source": [
    "# check that table wine is coming through wine\n",
    "pd.read_sql_query('select * from wine', con=engine).head()"
   ]
  },
  {
   "cell_type": "code",
   "execution_count": null,
   "metadata": {},
   "outputs": [],
   "source": []
  }
 ],
 "metadata": {
  "kernelspec": {
   "display_name": "Python 3",
   "language": "python",
   "name": "python3"
  },
  "language_info": {
   "codemirror_mode": {
    "name": "ipython",
    "version": 3
   },
   "file_extension": ".py",
   "mimetype": "text/x-python",
   "name": "python",
   "nbconvert_exporter": "python",
   "pygments_lexer": "ipython3",
<<<<<<< HEAD
   "version": "3.6.10"
=======
   "version": "3.8.3"
>>>>>>> e5a320a99c3e8b363c4e501281dd82b348e640be
  }
 },
 "nbformat": 4,
 "nbformat_minor": 4
}
